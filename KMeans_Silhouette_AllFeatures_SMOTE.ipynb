{
 "cells": [
  {
   "cell_type": "markdown",
   "id": "9efd18bf",
   "metadata": {
    "id": "591b2c8b"
   },
   "source": [
    "### Imports de bibliotecas"
   ]
  },
  {
   "cell_type": "code",
   "execution_count": 1,
   "id": "64d9e22e",
   "metadata": {
    "colab": {
     "base_uri": "https://localhost:8080/"
    },
    "executionInfo": {
     "elapsed": 2451,
     "status": "ok",
     "timestamp": 1635265899608,
     "user": {
      "displayName": "Rafael Quaresma",
      "photoUrl": "https://lh3.googleusercontent.com/a-/AOh14GjqhqiWZ4uvuyzVTLnpZXU0EN0HbhxcXC8W2PXzjIg=s64",
      "userId": "01459960503437207137"
     },
     "user_tz": 180
    },
    "id": "17a007e8",
    "outputId": "a6d26084-d6ba-4097-bf2a-a22a75ba2c7c"
   },
   "outputs": [],
   "source": [
    "import numpy as np\n",
    "import pandas as pd\n",
    "import sys\n",
    "import matplotlib.pyplot as plt\n",
    "import matplotlib.cm as cm\n",
    "import time  \n",
    "\n",
    "import plotly.express as px\n",
    "from sklearn.preprocessing import StandardScaler\n",
    "from sklearn.preprocessing import normalize\n",
    "from sklearn.decomposition import PCA\n",
    "from sklearn.manifold import TSNE\n",
    "from sklearn.neighbors import NearestNeighbors\n",
    "from sklearn.cluster import KMeans\n",
    "from sklearn.metrics import silhouette_samples, silhouette_score\n",
    "from yellowbrick.cluster import SilhouetteVisualizer\n",
    "\n",
    "from imblearn.over_sampling import SMOTE \n",
    "from collections import Counter\n",
    "from sklearn.datasets import make_classification\n",
    "from numpy import where"
   ]
  },
  {
   "cell_type": "markdown",
   "id": "56917410",
   "metadata": {
    "id": "db4104ff"
   },
   "source": [
    "### Importação de dados"
   ]
  },
  {
   "cell_type": "code",
   "execution_count": 2,
   "id": "4b7ca84a",
   "metadata": {
    "colab": {
     "base_uri": "https://localhost:8080/"
    },
    "executionInfo": {
     "elapsed": 2081,
     "status": "ok",
     "timestamp": 1635266289054,
     "user": {
      "displayName": "Rafael Quaresma",
      "photoUrl": "https://lh3.googleusercontent.com/a-/AOh14GjqhqiWZ4uvuyzVTLnpZXU0EN0HbhxcXC8W2PXzjIg=s64",
      "userId": "01459960503437207137"
     },
     "user_tz": 180
    },
    "id": "bf7b0755",
    "outputId": "df03c1f7-e7b5-4774-938b-2b890c967572",
    "scrolled": true
   },
   "outputs": [
    {
     "name": "stdout",
     "output_type": "stream",
     "text": [
      "(225745, 79)\n",
      "(225745, 79)\n"
     ]
    }
   ],
   "source": [
    "#Benign, DDoS, Infiltration\n",
    "directory = 'data/'\n",
    "\n",
    "attack_df = {}\n",
    "\n",
    "attack_df[0] = pd.read_csv(directory+'Friday-WorkingHours-Afternoon-DDos.pcap_ISCX.csv')\n",
    "# attack_df[1]= pd.read_csv(directory+'Friday-WorkingHours-Afternoon-PortScan.pcap_ISCX.csv')\n",
    "# attack_df[2] = pd.read_csv(directory+'Friday-WorkingHours-Morning.pcap_ISCX.csv')\n",
    "# attack_df[3] = pd.read_csv(directory+'Monday-WorkingHours.pcap_ISCX.csv')\n",
    "# attack_df[4] = pd.read_csv(directory+'Thursday-WorkingHours-Afternoon-Infilteration.pcap_ISCX.csv')\n",
    "# attack_df[5] = pd.read_csv(directory+'Thursday-WorkingHours-Morning-WebAttacks.pcap_ISCX.csv')\n",
    "# attack_df[6] = pd.read_csv(directory+'Tuesday-WorkingHours.pcap_ISCX.csv')\n",
    "# attack_df[7] = pd.read_csv(directory+'Wednesday-workingHours.pcap_ISCX.csv')\n",
    "\n",
    "attack_df = pd.concat(attack_df)\n",
    "\n",
    "print(attack_df.shape)\n",
    "attack_df.fillna(method = 'ffill', inplace=True)\n",
    "print(attack_df.shape)"
   ]
  },
  {
   "cell_type": "markdown",
   "id": "60f610bf",
   "metadata": {
    "id": "07838013"
   },
   "source": [
    "### Separação das labels e limpeza de dados"
   ]
  },
  {
   "cell_type": "code",
   "execution_count": 3,
   "id": "26637900",
   "metadata": {
    "executionInfo": {
     "elapsed": 336,
     "status": "ok",
     "timestamp": 1635266294661,
     "user": {
      "displayName": "Rafael Quaresma",
      "photoUrl": "https://lh3.googleusercontent.com/a-/AOh14GjqhqiWZ4uvuyzVTLnpZXU0EN0HbhxcXC8W2PXzjIg=s64",
      "userId": "01459960503437207137"
     },
     "user_tz": 180
    },
    "id": "4707ba77"
   },
   "outputs": [],
   "source": [
    "def clean_dataset(df,lb):\n",
    "    assert isinstance(df, pd.DataFrame), \"df needs to be a pd.DataFrame\"\n",
    "    df.dropna(inplace=True)\n",
    "    indices_to_keep = ~df.isin([np.nan, np.inf, -np.inf]).any(1)\n",
    "    return (df[indices_to_keep].astype(np.float64)),lb[indices_to_keep]"
   ]
  },
  {
   "cell_type": "code",
   "execution_count": 4,
   "id": "f05273b1",
   "metadata": {
    "colab": {
     "base_uri": "https://localhost:8080/"
    },
    "executionInfo": {
     "elapsed": 2263,
     "status": "ok",
     "timestamp": 1635266298449,
     "user": {
      "displayName": "Rafael Quaresma",
      "photoUrl": "https://lh3.googleusercontent.com/a-/AOh14GjqhqiWZ4uvuyzVTLnpZXU0EN0HbhxcXC8W2PXzjIg=s64",
      "userId": "01459960503437207137"
     },
     "user_tz": 180
    },
    "id": "e8bbad91",
    "outputId": "7a59c0e8-7906-4e7f-8a9d-b8d2d0492731"
   },
   "outputs": [
    {
     "name": "stdout",
     "output_type": "stream",
     "text": [
      "(225745, 78)\n",
      "(225745,)\n",
      "(225711, 78)\n",
      "(225711,)\n"
     ]
    }
   ],
   "source": [
    "label = attack_df[' Label']\n",
    "attack_df = attack_df.drop(' Label', axis = 1)\n",
    "print(attack_df.shape)\n",
    "print(label.shape)\n",
    "attack_df,label = clean_dataset(attack_df,label)\n",
    "print(attack_df.shape)\n",
    "print(label.shape)"
   ]
  },
  {
   "cell_type": "markdown",
   "id": "f5549c96",
   "metadata": {},
   "source": [
    "### Aplicação do SMOTE"
   ]
  },
  {
   "cell_type": "code",
   "execution_count": 5,
   "id": "9124dd29",
   "metadata": {},
   "outputs": [
    {
     "name": "stdout",
     "output_type": "stream",
     "text": [
      "Counter({'DDoS': 128025, 'BENIGN': 97686})\n"
     ]
    }
   ],
   "source": [
    "counter = Counter(label)\n",
    "print(counter)"
   ]
  },
  {
   "cell_type": "code",
   "execution_count": 6,
   "id": "bda4bb31",
   "metadata": {},
   "outputs": [],
   "source": [
    "oversample = SMOTE()\n",
    "attack_df, label = oversample.fit_resample(attack_df, label)"
   ]
  },
  {
   "cell_type": "code",
   "execution_count": 7,
   "id": "b1068c59",
   "metadata": {},
   "outputs": [
    {
     "name": "stdout",
     "output_type": "stream",
     "text": [
      "Counter({'BENIGN': 128025, 'DDoS': 128025})\n"
     ]
    }
   ],
   "source": [
    "counter = Counter(label)\n",
    "print(counter)"
   ]
  },
  {
   "cell_type": "markdown",
   "id": "f734c622",
   "metadata": {
    "id": "d9ec2e98"
   },
   "source": [
    "### Normalização dos dados"
   ]
  },
  {
   "cell_type": "code",
   "execution_count": 8,
   "id": "59e44d8e",
   "metadata": {
    "executionInfo": {
     "elapsed": 455,
     "status": "ok",
     "timestamp": 1635266300862,
     "user": {
      "displayName": "Rafael Quaresma",
      "photoUrl": "https://lh3.googleusercontent.com/a-/AOh14GjqhqiWZ4uvuyzVTLnpZXU0EN0HbhxcXC8W2PXzjIg=s64",
      "userId": "01459960503437207137"
     },
     "user_tz": 180
    },
    "id": "cdf80ee7"
   },
   "outputs": [],
   "source": [
    "scaler = StandardScaler()\n",
    "attack_scaled = scaler.fit_transform(attack_df)\n",
    "\n",
    "#normalizing data\n",
    "attack_normalized = normalize(attack_scaled)\n",
    "\n",
    "attack_normalized = pd.DataFrame(attack_normalized)"
   ]
  },
  {
   "cell_type": "markdown",
   "id": "b2c4e70b",
   "metadata": {
    "id": "c9a554de"
   },
   "source": [
    "### Análise de K com Silhouette"
   ]
  },
  {
   "cell_type": "code",
   "execution_count": 9,
   "id": "b92023c2",
   "metadata": {
    "id": "556016b3"
   },
   "outputs": [
    {
     "data": {
      "image/png": "[encoded data removed]",
      "text/plain": [
       "<Figure size 1080x576 with 4 Axes>"
      ]
     },
     "metadata": {},
     "output_type": "display_data"
    }
   ],
   "source": [
    "fig, ax = plt.subplots (2, 2, figsize = (15,8))\n",
    "for i in [2, 3, 4, 5]:\n",
    "    '''\n",
    "    Crie uma instância KMeans para um número diferente de clusters\n",
    "    '''\n",
    "    km = KMeans (n_clusters = i, init = 'k-means++', n_init = 10, max_iter = 100, random_state = 42)\n",
    "    q, mod = divmod (i, 2)\n",
    "    '''\n",
    "    Criar instância SilhouetteVisualizer com instância KMeans\n",
    "    Ajustar o visualizador\n",
    "    '''\n",
    "    visualizer = SilhouetteVisualizer (km, colors = 'yellowbrick', ax = ax [q-1] [mod])\n",
    "    visualizer.fit (attack_normalized)"
   ]
  },
  {
   "cell_type": "markdown",
   "id": "46d87ef7",
   "metadata": {
    "id": "d91b1742"
   },
   "source": [
    "### K-Means com K determinado por Silhouette"
   ]
  },
  {
   "cell_type": "code",
   "execution_count": 10,
   "id": "439875db",
   "metadata": {
    "id": "19958dfd",
    "outputId": "31cb630b-1702-4787-c4ac-f0fde829c7da"
   },
   "outputs": [
    {
     "data": {
      "text/plain": [
       "KMeans(n_clusters=5)"
      ]
     },
     "execution_count": 10,
     "metadata": {},
     "output_type": "execute_result"
    }
   ],
   "source": [
    "kmeanModel = KMeans(n_clusters=5)\n",
    "kmeanModel.fit(attack_normalized)"
   ]
  },
  {
   "cell_type": "code",
   "execution_count": 17,
   "id": "5383354d",
   "metadata": {},
   "outputs": [
    {
     "data": {
      "text/plain": [
       "(225711, 78)"
      ]
     },
     "execution_count": 17,
     "metadata": {},
     "output_type": "execute_result"
    }
   ],
   "source": [
    "attack_normalized.shape"
   ]
  }
 ],
 "metadata": {
  "colab": {
   "name": "KMeansANDSilhouette.ipynb",
   "provenance": []
  },
  "kernelspec": {
   "display_name": "Python 3 (ipykernel)",
   "language": "python",
   "name": "python3"
  },
  "language_info": {
   "codemirror_mode": {
    "name": "ipython",
    "version": 3
   },
   "file_extension": ".py",
   "mimetype": "text/x-python",
   "name": "python",
   "nbconvert_exporter": "python",
   "pygments_lexer": "ipython3",
   "version": "3.9.7"
  }
 },
 "nbformat": 4,
 "nbformat_minor": 5
}
