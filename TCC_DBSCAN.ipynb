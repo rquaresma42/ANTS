{
 "cells": [
  {
   "cell_type": "markdown",
   "id": "80fbfc15",
   "metadata": {},
   "source": [
    "### DBSCAN"
   ]
  },
  {
   "cell_type": "markdown",
   "id": "91ef9eff",
   "metadata": {},
   "source": [
    "#### Importando as bibliotecas necessárias"
   ]
  },
  {
   "cell_type": "code",
   "execution_count": 1,
   "id": "09be674b",
   "metadata": {},
   "outputs": [],
   "source": [
    "import numpy as np\n",
    "import pandas as pd\n",
    "import matplotlib.pyplot as plt\n",
    "  \n",
    "from sklearn.cluster import DBSCAN\n",
    "from sklearn.preprocessing import StandardScaler\n",
    "from sklearn.preprocessing import normalize\n",
    "from sklearn.decomposition import PCA"
   ]
  },
  {
   "cell_type": "markdown",
   "id": "aa800ebe",
   "metadata": {},
   "source": [
    "#### Carregando dados"
   ]
  },
  {
   "cell_type": "code",
   "execution_count": 2,
   "id": "bd0967fa",
   "metadata": {},
   "outputs": [],
   "source": [
    "data = {}\n",
    "\n",
    "data[0] = pd.read_csv('../Databases/MachineLearningCVE/Friday-WorkingHours-Afternoon-DDos.pcap_ISCX.csv')\n",
    "data[1]= pd.read_csv('../Databases/MachineLearningCVE/Friday-WorkingHours-Afternoon-PortScan.pcap_ISCX.csv')\n",
    "data[2] = pd.read_csv('../Databases/MachineLearningCVE/Friday-WorkingHours-Morning.pcap_ISCX.csv')\n",
    "data[3] = pd.read_csv('../Databases/MachineLearningCVE/Monday-WorkingHours.pcap_ISCX.csv')\n",
    "data[4] = pd.read_csv('../Databases/MachineLearningCVE/Thursday-WorkingHours-Afternoon-Infilteration.pcap_ISCX.csv')\n",
    "data[5] = pd.read_csv('../Databases/MachineLearningCVE/Thursday-WorkingHours-Morning-WebAttacks.pcap_ISCX.csv')\n",
    "data[6] = pd.read_csv('../Databases/MachineLearningCVE/Tuesday-WorkingHours.pcap_ISCX.csv')\n",
    "data[7] = pd.read_csv('../Databases/MachineLearningCVE/Wednesday-workingHours.pcap_ISCX.csv')\n",
    "\n",
    "X = pd.concat(data)\n",
    "\n",
    "# Dropping the CUST_ID column from the data\n",
    "X = X.drop(' Label', axis = 1)\n",
    "  \n",
    "# Handling the missing values\n",
    "X.fillna(method ='ffill', inplace = True)"
   ]
  },
  {
   "cell_type": "markdown",
   "id": "4cdc11a7",
   "metadata": {},
   "source": [
    "#### Pré-processamento de dados"
   ]
  },
  {
   "cell_type": "code",
   "execution_count": 4,
   "id": "09bafeca",
   "metadata": {},
   "outputs": [],
   "source": [
    "def clean_dataset(df):\n",
    "    assert isinstance(df, pd.DataFrame), \"df needs to be a pd.DataFrame\"\n",
    "    df.dropna(inplace=True)\n",
    "    indices_to_keep = ~df.isin([np.nan, np.inf, -np.inf]).any(1)\n",
    "    return df[indices_to_keep].astype(np.float64)\n",
    "\n",
    "X = clean_dataset(X)\n",
    "# Scaling the data to bring all the attributes to a comparable level\n",
    "scaler = StandardScaler()\n",
    "X_scaled = scaler.fit_transform(X)\n",
    "  \n",
    "# Normalizing the data so that \n",
    "# the data approximately follows a Gaussian distribution\n",
    "X_normalized = normalize(X_scaled)\n",
    "  \n",
    "# Converting the numpy array into a pandas DataFrame\n",
    "X_normalized = pd.DataFrame(X_normalized)"
   ]
  },
  {
   "cell_type": "markdown",
   "id": "b5611ed1",
   "metadata": {},
   "source": [
    "#### Reduzindo as dimensões da base"
   ]
  },
  {
   "cell_type": "code",
   "execution_count": 5,
   "id": "a8282ae1",
   "metadata": {},
   "outputs": [],
   "source": [
    "pca = PCA(n_components = 2)\n",
    "X_principal = pca.fit_transform(X_normalized)\n",
    "X_principal = pd.DataFrame(X_principal)\n",
    "X_principal.columns = ['P1', 'P2']"
   ]
  },
  {
   "cell_type": "code",
   "execution_count": 5,
   "id": "4b3d9562",
   "metadata": {},
   "outputs": [
    {
     "name": "stdout",
     "output_type": "stream",
     "text": [
      "               P1        P2\n",
      "0        0.145484  0.607507\n",
      "1        0.083891  0.631055\n",
      "2        0.085802  0.635701\n",
      "3        0.069003  0.643871\n",
      "4        0.145478  0.607507\n",
      "...           ...       ...\n",
      "2827871 -0.553494  0.016521\n",
      "2827872 -0.635471 -0.381917\n",
      "2827873  0.238153  0.390771\n",
      "2827874 -0.565916 -0.140663\n",
      "2827875 -0.588767 -0.188850\n",
      "\n",
      "[2827876 rows x 2 columns]\n"
     ]
    }
   ],
   "source": [
    "print(X_principal)"
   ]
  },
  {
   "cell_type": "markdown",
   "id": "62e2e083",
   "metadata": {},
   "source": [
    "#### Construindo o modelo de clusterização"
   ]
  },
  {
   "cell_type": "code",
   "execution_count": 6,
   "id": "69d2781e",
   "metadata": {},
   "outputs": [],
   "source": [
    "# Numpy array of all the cluster labels assigned to each data point\n",
    "# db_default = DBSCAN(eps = 0.0375, min_samples = 3).fit(X_principal)\n",
    "db_default = DBSCAN()\n",
    "# labels = db_default.labels_"
   ]
  },
  {
   "cell_type": "code",
   "execution_count": null,
   "id": "f442c2f0",
   "metadata": {},
   "outputs": [],
   "source": [
    "db_default = db_default.fit(X_principal)"
   ]
  },
  {
   "cell_type": "markdown",
   "id": "48d36dc6",
   "metadata": {},
   "source": [
    "#### Visualizando cada cluster"
   ]
  },
  {
   "cell_type": "code",
   "execution_count": null,
   "id": "79387176",
   "metadata": {},
   "outputs": [],
   "source": [
    "# Building the label to colour mapping\n",
    "colours = {}\n",
    "colours[0] = 'r'\n",
    "colours[1] = 'g'\n",
    "colours[2] = 'b'\n",
    "colours[-1] = 'k'\n",
    "  \n",
    "# Building the colour vector for each data point\n",
    "cvec = [colours[label] for label in labels]\n",
    "  \n",
    "# For the construction of the legend of the plot\n",
    "r = plt.scatter(X_principal['P1'], X_principal['P2'], color ='r');\n",
    "g = plt.scatter(X_principal['P1'], X_principal['P2'], color ='g');\n",
    "b = plt.scatter(X_principal['P1'], X_principal['P2'], color ='b');\n",
    "k = plt.scatter(X_principal['P1'], X_principal['P2'], color ='k');\n",
    "  \n",
    "# Plotting P1 on the X-Axis and P2 on the Y-Axis \n",
    "# according to the colour vector defined\n",
    "plt.figure(figsize =(9, 9))\n",
    "plt.scatter(X_principal['P1'], X_principal['P2'], c = cvec)\n",
    "  \n",
    "# Building the legend\n",
    "plt.legend((r, g, b, k), ('Label 0', 'Label 1', 'Label 2', 'Label -1'))\n",
    "  \n",
    "plt.show()"
   ]
  }
 ],
 "metadata": {
  "kernelspec": {
   "display_name": "Python 3 (ipykernel)",
   "language": "python",
   "name": "python3"
  },
  "language_info": {
   "codemirror_mode": {
    "name": "ipython",
    "version": 3
   },
   "file_extension": ".py",
   "mimetype": "text/x-python",
   "name": "python",
   "nbconvert_exporter": "python",
   "pygments_lexer": "ipython3",
   "version": "3.8.10"
  }
 },
 "nbformat": 4,
 "nbformat_minor": 5
}
