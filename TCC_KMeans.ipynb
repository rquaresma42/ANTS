{
 "cells": [
  {
   "cell_type": "markdown",
   "id": "e890c761",
   "metadata": {},
   "source": [
    "Instalação dos módulos via pip"
   ]
  },
  {
   "cell_type": "code",
   "execution_count": 2,
   "id": "5d5140cf",
   "metadata": {},
   "outputs": [
    {
     "name": "stdout",
     "output_type": "stream",
     "text": [
      "Requirement already satisfied: sklearn in /usr/local/lib/python3.8/dist-packages (0.0)\n",
      "Requirement already satisfied: matplotlib in /usr/local/lib/python3.8/dist-packages (3.4.3)\n",
      "Requirement already satisfied: pandas in /usr/local/lib/python3.8/dist-packages (1.3.2)\n",
      "Requirement already satisfied: scikit-learn in /usr/local/lib/python3.8/dist-packages (from sklearn) (0.24.2)\n",
      "Requirement already satisfied: python-dateutil>=2.7 in /usr/local/lib/python3.8/dist-packages (from matplotlib) (2.8.2)\n",
      "Requirement already satisfied: pillow>=6.2.0 in /usr/lib/python3/dist-packages (from matplotlib) (7.0.0)\n",
      "Requirement already satisfied: kiwisolver>=1.0.1 in /usr/local/lib/python3.8/dist-packages (from matplotlib) (1.3.2)\n",
      "Requirement already satisfied: pyparsing>=2.2.1 in /usr/lib/python3/dist-packages (from matplotlib) (2.4.6)\n",
      "Requirement already satisfied: cycler>=0.10 in /usr/local/lib/python3.8/dist-packages (from matplotlib) (0.10.0)\n",
      "Requirement already satisfied: numpy>=1.16 in /usr/local/lib/python3.8/dist-packages (from matplotlib) (1.21.2)\n",
      "Requirement already satisfied: pytz>=2017.3 in /usr/lib/python3/dist-packages (from pandas) (2019.3)\n",
      "Requirement already satisfied: scipy>=0.19.1 in /usr/local/lib/python3.8/dist-packages (from scikit-learn->sklearn) (1.7.1)\n",
      "Requirement already satisfied: threadpoolctl>=2.0.0 in /usr/local/lib/python3.8/dist-packages (from scikit-learn->sklearn) (2.2.0)\n",
      "Requirement already satisfied: joblib>=0.11 in /usr/local/lib/python3.8/dist-packages (from scikit-learn->sklearn) (1.0.1)\n",
      "Requirement already satisfied: six>=1.5 in /usr/lib/python3/dist-packages (from python-dateutil>=2.7->matplotlib) (1.14.0)\n",
      "Note: you may need to restart the kernel to use updated packages.\n"
     ]
    }
   ],
   "source": [
    "pip install sklearn matplotlib pandas"
   ]
  },
  {
   "cell_type": "markdown",
   "id": "3c54b235",
   "metadata": {},
   "source": [
    "Chamada das bibliotecas necessárias"
   ]
  },
  {
   "cell_type": "code",
   "execution_count": 3,
   "id": "a5af4ea7",
   "metadata": {
    "scrolled": true
   },
   "outputs": [],
   "source": [
    "from sklearn.preprocessing import StandardScaler\n",
    "from sklearn.cluster import KMeans\n",
    "import pandas as pd\n",
    "import numpy as np\n",
    "from itertools import cycle, islice\n",
    "import matplotlib.pyplot as plt\n",
    "from pandas.plotting import parallel_coordinates\n",
    "\n",
    "%matplotlib inline"
   ]
  },
  {
   "cell_type": "markdown",
   "id": "7d4b7e3b",
   "metadata": {},
   "source": [
    "Construção do dataframe com base nos arquivos CSV"
   ]
  },
  {
   "cell_type": "code",
   "execution_count": null,
   "id": "f48ea630",
   "metadata": {},
   "outputs": [],
   "source": [
    "data = {}\n",
    "\n",
    "data[0] = pd.read_csv('../Databases/MachineLearningCVE/Friday-WorkingHours-Afternoon-DDos.pcap_ISCX.csv')\n",
    "data[1]= pd.read_csv('../Databases/MachineLearningCVE/Friday-WorkingHours-Afternoon-PortScan.pcap_ISCX.csv')\n",
    "data[2] = pd.read_csv('../Databases/MachineLearningCVE/Friday-WorkingHours-Morning.pcap_ISCX.csv')\n",
    "data[3] = pd.read_csv('../Databases/MachineLearningCVE/Monday-WorkingHours.pcap_ISCX.csv')\n",
    "data[4] = pd.read_csv('../Databases/MachineLearningCVE/Thursday-WorkingHours-Afternoon-Infilteration.pcap_ISCX.csv')\n",
    "data[5] = pd.read_csv('../Databases/MachineLearningCVE/Thursday-WorkingHours-Morning-WebAttacks.pcap_ISCX.csv')\n",
    "data[6] = pd.read_csv('../Databases/MachineLearningCVE/Tuesday-WorkingHours.pcap_ISCX.csv')\n",
    "data[7] = pd.read_csv('../Databases/MachineLearningCVE/Wednesday-workingHours.pcap_ISCX.csv')\n",
    "\n",
    "controle = dataframe = pd.concat(data)\n",
    "\n",
    "# Dropping the CUST_ID column from the data\n",
    "dataframe = dataframe.drop(' Label', axis = 1)\n",
    "  \n",
    "# Handling the missing values\n",
    "dataframe.fillna(method ='ffill', inplace = True)"
   ]
  },
  {
   "cell_type": "markdown",
   "id": "0e8ad8f1",
   "metadata": {},
   "source": [
    "Função para limpar o dataset"
   ]
  },
  {
   "cell_type": "code",
   "execution_count": 5,
   "id": "823c9f22",
   "metadata": {},
   "outputs": [],
   "source": [
    "def clean_dataset(df):\n",
    "    assert isinstance(df, pd.DataFrame), \"df needs to be a pd.DataFrame\"\n",
    "    df.dropna(inplace=True)\n",
    "    indices_to_keep = ~df.isin([np.nan, np.inf, -np.inf]).any(1)\n",
    "    return df[indices_to_keep].astype(np.float64)"
   ]
  },
  {
   "cell_type": "markdown",
   "id": "323b7100",
   "metadata": {},
   "source": [
    "### Principal Components Analysis (PCA)"
   ]
  },
  {
   "cell_type": "code",
   "execution_count": 6,
   "id": "27e7a725",
   "metadata": {},
   "outputs": [],
   "source": [
    "from sklearn.preprocessing import StandardScaler\n",
    "from sklearn.decomposition import PCA"
   ]
  },
  {
   "cell_type": "code",
   "execution_count": 7,
   "id": "33ad4e3f",
   "metadata": {},
   "outputs": [],
   "source": [
    "dataframe = clean_dataset(dataframe)"
   ]
  },
  {
   "cell_type": "code",
   "execution_count": 8,
   "id": "93552098",
   "metadata": {},
   "outputs": [],
   "source": [
    "pca = PCA (n_components = 2)"
   ]
  },
  {
   "cell_type": "code",
   "execution_count": 9,
   "id": "251c1b26",
   "metadata": {},
   "outputs": [],
   "source": [
    "pca.fit (dataframe)\n",
    "pca.components_\n",
    "kmeans_preparated = pca.transform(dataframe)"
   ]
  },
  {
   "cell_type": "code",
   "execution_count": 10,
   "id": "f061f331",
   "metadata": {},
   "outputs": [],
   "source": [
    "dataX = []\n",
    "dataY = []\n",
    "for item in kmeans_preparated:\n",
    "    dataX.append(item[0])\n",
    "    dataY.append(item[1])"
   ]
  },
  {
   "cell_type": "code",
   "execution_count": 11,
   "id": "07eba568",
   "metadata": {},
   "outputs": [
    {
     "name": "stdout",
     "output_type": "stream",
     "text": [
      "[-30865664.138760045, -30826428.04871683, -30827684.378646288, -30828924.567160614, -30865664.138696816, -30823825.29802385, -30855597.49774878, -30828243.77341129, -30855595.92663672, -30917679.454349753]\n",
      "[-2610465.738027461, -2548130.5976338573, -2550062.5711792354, -2552018.239118669, -2610465.738083871, -2546601.7047146894, -2594441.4760417063, -2550942.1866174564, -2594440.526536394, -2694146.474721737]\n"
     ]
    }
   ],
   "source": [
    "print(dataX[0:10])\n",
    "print(dataY[0:10])"
   ]
  },
  {
   "cell_type": "markdown",
   "id": "39d3e513",
   "metadata": {},
   "source": [
    "### Kmeans clustering"
   ]
  },
  {
   "cell_type": "code",
   "execution_count": 12,
   "id": "3028723a",
   "metadata": {},
   "outputs": [],
   "source": [
    "from pandas import DataFrame\n",
    "Data = {'x': dataX,\n",
    "        'y': dataY\n",
    "       }\n",
    "\n",
    "df = DataFrame(Data,columns=['x','y'])"
   ]
  },
  {
   "cell_type": "code",
   "execution_count": 13,
   "id": "353b07c9",
   "metadata": {},
   "outputs": [
    {
     "name": "stdout",
     "output_type": "stream",
     "text": [
      "                    x             y\n",
      "0       -3.086566e+07 -2.610466e+06\n",
      "1       -3.082643e+07 -2.548131e+06\n",
      "2       -3.082768e+07 -2.550063e+06\n",
      "3       -3.082892e+07 -2.552018e+06\n",
      "4       -3.086566e+07 -2.610466e+06\n",
      "...               ...           ...\n",
      "2827871 -3.077420e+07 -2.548007e+06\n",
      "2827872 -3.083878e+07 -2.568404e+06\n",
      "2827873 -3.082984e+07 -2.553585e+06\n",
      "2827874 -2.917904e+07 -2.558580e+06\n",
      "2827875 -3.069562e+07 -2.544341e+06\n",
      "\n",
      "[2827876 rows x 2 columns]\n"
     ]
    }
   ],
   "source": [
    "print(df)"
   ]
  },
  {
   "cell_type": "code",
   "execution_count": 14,
   "id": "223ad846",
   "metadata": {},
   "outputs": [
    {
     "name": "stdout",
     "output_type": "stream",
     "text": [
      "[[-3.04980237e+07 -2.49468312e+06]\n",
      " [ 1.78982223e+08 -7.47881584e+07]\n",
      " [ 1.20293067e+08  1.23173943e+08]\n",
      " [ 1.76462575e+08 -2.37795280e+07]\n",
      " [ 6.62985722e+07 -1.19137352e+07]\n",
      " [ 2.66335564e+08 -2.08341588e+07]\n",
      " [ 2.07418580e+08  5.88174170e+07]\n",
      " [-1.50177464e+07 -4.08725243e+06]\n",
      " [ 5.89453057e+07  5.78840111e+07]\n",
      " [ 1.46388765e+08  1.24090320e+07]\n",
      " [ 2.16543165e+08 -8.82516035e+07]\n",
      " [ 2.21761627e+08 -1.84002651e+07]\n",
      " [ 1.41453881e+07  5.51683370e+06]\n",
      " [ 1.27543621e+08 -3.49670457e+07]\n",
      " [ 3.17180309e+08 -2.72995676e+07]]\n"
     ]
    },
    {
     "data": {
      "image/png": "[encoded data removed]",
      "text/plain": [
       "<Figure size 432x288 with 1 Axes>"
      ]
     },
     "metadata": {
      "needs_background": "light"
     },
     "output_type": "display_data"
    }
   ],
   "source": [
    "import matplotlib.pyplot as plt\n",
    "from sklearn.cluster import KMeans\n",
    "kmeans = KMeans(n_clusters=15).fit(df)\n",
    "centroids = kmeans.cluster_centers_\n",
    "print(centroids)\n",
    "\n",
    "plt.scatter(df['x'], df['y'], c= kmeans.labels_.astype(float), s=50, alpha=0.5)\n",
    "plt.scatter(centroids[:, 0], centroids[:, 1], c='red', s=50)\n",
    "plt.show()"
   ]
  }
 ],
 "metadata": {
  "kernelspec": {
   "display_name": "Python 3 (ipykernel)",
   "language": "python",
   "name": "python3"
  },
  "language_info": {
   "codemirror_mode": {
    "name": "ipython",
    "version": 3
   },
   "file_extension": ".py",
   "mimetype": "text/x-python",
   "name": "python",
   "nbconvert_exporter": "python",
   "pygments_lexer": "ipython3",
   "version": "3.8.10"
  }
 },
 "nbformat": 4,
 "nbformat_minor": 5
}
